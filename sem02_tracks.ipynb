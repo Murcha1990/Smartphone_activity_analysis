{
 "cells": [
  {
   "cell_type": "markdown",
   "metadata": {},
   "source": [
    "## Загрузка и первичный анализ данных\n",
    "\n",
    "* скачаем треки с dropbox\n",
    "* загрузим треки: данные с Android имеют разделитель ';', с Iphone $-$ ',', также треки с айфона сохраняются как строки, исправим это\n",
    "* обрежем начало и конец трека (там не движение)\n",
    "* нарисуем исходные данные, а также график модуля ускорения\n",
    "* подумаем, по каким признакам можно различить треки"
   ]
  },
  {
   "cell_type": "code",
   "execution_count": null,
   "metadata": {},
   "outputs": [],
   "source": [
    "def get_type(name):\n",
    "    return name.split(\"_\")[-2]"
   ]
  },
  {
   "cell_type": "code",
   "execution_count": null,
   "metadata": {},
   "outputs": [],
   "source": [
    "import os\n",
    "import pandas as pd\n",
    "path = r'C:\\Users\\elena\\Desktop\\ВШЭ\\MiniCourse\\Public-data' \n",
    "data = {}\n",
    "\n",
    "Data = []\n",
    "Target = []\n",
    "\n",
    "i=0\n",
    "for dir_entry in os.listdir(path):\n",
    "    dir_entry_path = os.path.join(path, dir_entry)\n",
    "    if os.path.isfile(dir_entry_path):\n",
    "        i+=1\n",
    "        with open(dir_entry_path, 'r') as my_file:\n",
    "            df = pd.read_csv(my_file, delimiter=';')\n",
    "            if df.shape[1] == 5:\n",
    "                Data.append(df)\n",
    "                Target.append(dir_entry_path.split(\"\\\\\")[-1])\n",
    "\n",
    "for dir_entry in os.listdir(path):\n",
    "    dir_entry_path = os.path.join(path, dir_entry)\n",
    "    if os.path.isfile(dir_entry_path):\n",
    "        i+=1\n",
    "        with open(dir_entry_path, 'r') as my_file:\n",
    "            df = pd.read_csv(my_file, delimiter=',')\n",
    "            if df.shape[1] == 5:\n",
    "                Data.append(df)\n",
    "                Target.append(dir_entry_path.split(\"\\\\\")[-1])"
   ]
  },
  {
   "cell_type": "code",
   "execution_count": null,
   "metadata": {},
   "outputs": [],
   "source": [
    "len(Data)"
   ]
  },
  {
   "cell_type": "code",
   "execution_count": null,
   "metadata": {
    "scrolled": false
   },
   "outputs": [],
   "source": [
    "import pandas as pd\n",
    "from matplotlib import pylab as plt\n",
    "%pylab inline\n",
    "\n",
    "def process_data(df, comma=True, cut=True, name = \"\", a=-1, b=-1):\n",
    "    \n",
    "# обрезаем начало и конец трека\n",
    "    if a == -1:\n",
    "        st = int(len(df)*0.2)\n",
    "    else:\n",
    "        st = a\n",
    "            \n",
    "    if b == -1:\n",
    "        end = -int(len(df)*0.2)\n",
    "    else:\n",
    "        end = b\n",
    "        \n",
    "    if cut == False:\n",
    "        st = 0\n",
    "        end = -1\n",
    "\n",
    "    print(name)\n",
    "    fig, ((ax1, ax2)) = plt.subplots(nrows=1, ncols=2, figsize=(15,6))\n",
    "\n",
    "# приводим данные с Iphone к нужному формату\n",
    "    if comma is True:\n",
    "        df = df.applymap(lambda x: str(x).replace(',','.'))\n",
    "        df['gFx'] = df['gFx'].astype(float)\n",
    "        df['gFy'] = df['gFy'].astype(float)\n",
    "        df['gFz'] = df['gFz'].astype(float)\n",
    "\n",
    "# рисуем графики ускорений\n",
    "    if cut:\n",
    "        ax1.plot(df.iloc[st:end]['gFx'],c='g')\n",
    "        ax1.plot(df.iloc[st:end]['gFy'],c='r')\n",
    "        ax1.plot(df.iloc[st:end]['gFz'],c='b')\n",
    "    else:\n",
    "        ax1.plot(df['gFx'],c='g')\n",
    "        ax1.plot(df['gFy'],c='r')\n",
    "        ax1.plot(df['gFz'],c='b')\n",
    "        \n",
    "# вычисляем модуль (норму) ускорения и рисуем его\n",
    "    Acc = (df.gFx[st:end] ** 2 + df.gFy[st:end] ** 2 + df.gFz[st:end] ** 2) ** 0.5\n",
    "    ax2.plot(Acc)\n",
    "    plt.show()\n",
    "\n",
    "# можно различить многие действия по амплитуде ускорения\n",
    "    print(' АМПЛИТУДА:', Acc.max()-Acc.min())\n",
    "    print()\n",
    "    \n",
    "    return df\n",
    "\n",
    "\n",
    "\n",
    "base_tracks = ['ходьба', 'бег', 'лестница', 'велосипед', 'стояние']\n",
    "\n",
    "for df, target in zip(Data,Target):\n",
    "    track_type = get_type(target)\n",
    "    if track_type in base_tracks:\n",
    "        process_data(df, name=track_type)"
   ]
  },
  {
   "cell_type": "markdown",
   "metadata": {},
   "source": [
    "## Что сделать к следующему занятию (25 июля):\n",
    "\n",
    "1) Сгруппировать треки по типам движения и выводить на экран сначала все треки одного типа движения, потом другого и т.д. (а не перемешанные).\n",
    "\n",
    "2) Подумать, по каким признакам можно отличить треки, которые мы не смогли различить по амплитуде? Проверить свои идеи, обсудим в следующий раз.\n",
    "\n",
    "3) Написать простую предсказательную модель, определяющую тип движения по амплитуде и другим числовым характеристикам. Вычислить долю правильных ответов по всем открытым данным (accuracy).\n",
    "\n",
    "4) Какие проблемы встречаются в данных? Что с ними делать?"
   ]
  },
  {
   "cell_type": "code",
   "execution_count": null,
   "metadata": {},
   "outputs": [],
   "source": [
    "#your code here"
   ]
  }
 ],
 "metadata": {
  "kernelspec": {
   "display_name": "Python 3",
   "language": "python",
   "name": "python3"
  },
  "language_info": {
   "codemirror_mode": {
    "name": "ipython",
    "version": 3
   },
   "file_extension": ".py",
   "mimetype": "text/x-python",
   "name": "python",
   "nbconvert_exporter": "python",
   "pygments_lexer": "ipython3",
   "version": "3.7.6"
  }
 },
 "nbformat": 4,
 "nbformat_minor": 4
}
